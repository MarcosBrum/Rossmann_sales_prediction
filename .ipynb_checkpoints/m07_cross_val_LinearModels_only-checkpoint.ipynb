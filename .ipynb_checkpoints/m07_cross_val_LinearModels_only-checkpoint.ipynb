{
 "cells": [
  {
   "cell_type": "code",
   "execution_count": 1,
   "metadata": {
    "id": "AvWRdI-AirqT"
   },
   "outputs": [],
   "source": [
    "\"\"\"\n",
    "0.0 IMPORTS\n",
    "\"\"\"\n",
    "\n",
    "import pandas as pd\n",
    "import numpy as np\n",
    "\n",
    "import datetime\n",
    "\n",
    "from sklearn.ensemble import RandomForestRegressor\n",
    "from sklearn.metrics import mean_absolute_error, mean_squared_error\n",
    "from sklearn.linear_model import LinearRegression, Lasso\n",
    "\n",
    "import xgboost as xgb"
   ]
  },
  {
   "cell_type": "code",
   "execution_count": 2,
   "metadata": {
    "id": "-KYEGh7Ai44S"
   },
   "outputs": [],
   "source": [
    "\"\"\"\n",
    "0.1 Functions\n",
    "\"\"\"\n",
    "\n",
    "\n",
    "def mean_percentage_error(y, yhat):\n",
    "    return np.mean((y - yhat)/y)\n",
    "\n",
    "\n",
    "def mean_absolute_percentage_error(y, yhat):\n",
    "    return np.mean(np.abs((y - yhat)/y))\n",
    "\n",
    "\n",
    "def ml_error(model_name, y, yhat):\n",
    "    mae = mean_absolute_error(y, yhat)\n",
    "    mape = mean_absolute_percentage_error(y, yhat)\n",
    "    rmse = np.sqrt(mean_squared_error(y, yhat))\n",
    "    return pd.DataFrame({'Model Name': model_name, 'MAE': mae, 'MAPE': mape, 'RMSE': rmse}, index=[0])\n",
    "\n",
    "\n",
    "def cross_validation(training_data, kfolds, model, model_name, verbose=False):\n",
    "    mae_list = []\n",
    "    mape_list = []\n",
    "    rmse_list = []\n",
    "    for k in reversed(range(1, kfolds+1)):\n",
    "        if verbose:\n",
    "            print('\\nKFold Number: {}'.format(k))\n",
    "        # time intervals of 6 weeks\n",
    "        validation_start_date = training_data['date'].max() - datetime.timedelta(days=k*6*7)\n",
    "        validation_end_date = training_data['date'].max() - datetime.timedelta(days=(k-1)*6*7)\n",
    "\n",
    "        # split data into training and validation\n",
    "        training = training_data[training_data['date'] < validation_start_date]\n",
    "        validation = training_data[(training_data['date'] >= validation_start_date) & (training_data['date'] <= validation_end_date)]\n",
    "\n",
    "        xtraining = training.drop(['date', 'sales'], axis=1)\n",
    "        ytraining = training['sales']\n",
    "\n",
    "        xvalidation = validation.drop(['date', 'sales'], axis=1)\n",
    "        yvalidation = validation['sales']\n",
    "\n",
    "        # implement a model to get the results\n",
    "        m = model.fit(xtraining, ytraining)\n",
    "        yhat = m.predict(xvalidation)\n",
    "        m_result = ml_error(model_name, np.expm1(yvalidation), np.expm1(yhat))\n",
    "\n",
    "        mae_list.append(m_result['MAE'])\n",
    "        mape_list.append(m_result['MAPE'])\n",
    "        rmse_list.append(m_result['RMSE'])\n",
    "\n",
    "    return pd.DataFrame({'Model name':model_name,\n",
    "    'MAE':np.round(np.mean(mae_list), 2).astype(str) + '+/-' + np.round(np.std(mae_list), 2).astype(str),\n",
    "    'MAPE':np.round(np.mean(mape_list), 2).astype(str) + '+/-' + np.round(np.std(mape_list), 2).astype(str),\n",
    "    'RMSE':np.round(np.mean(rmse_list), 2).astype(str) + '+/-' + np.round(np.std(rmse_list), 2).astype(str)}, index=[0])"
   ]
  },
  {
   "cell_type": "code",
   "execution_count": 3,
   "metadata": {
    "id": "oS8cf1Qsi9IW"
   },
   "outputs": [],
   "source": [
    "\"\"\"\n",
    "Load data\n",
    "\"\"\"\n",
    "\n",
    "x_training = pd.read_pickle('x_training.pkl')"
   ]
  },
  {
   "cell_type": "code",
   "execution_count": 4,
   "metadata": {
    "colab": {
     "base_uri": "https://localhost:8080/"
    },
    "id": "1tz01xyzi_AL",
    "outputId": "bb4638c2-b096-4907-f791-bcf560737f64"
   },
   "outputs": [
    {
     "name": "stdout",
     "output_type": "stream",
     "text": [
      "+----+-------------------+------------------+------------+------------------+\n",
      "|    | Model name        | MAE              | MAPE       | RMSE             |\n",
      "+====+===================+==================+============+==================+\n",
      "|  0 | Linear Regression | 2118.29+/-321.79 | 0.3+/-0.01 | 3016.16+/-496.47 |\n",
      "+----+-------------------+------------------+------------+------------------+\n",
      "|  0 | Lasso             | 2118.66+/-322.9  | 0.3+/-0.01 | 3017.67+/-497.52 |\n",
      "+----+-------------------+------------------+------------+------------------+\n"
     ]
    }
   ],
   "source": [
    "\"\"\"\n",
    "Compare models' performance - cross validation\n",
    "\"\"\"\n",
    "\n",
    "# Linear Regression\n",
    "model = LinearRegression()\n",
    "lr_cv = cross_validation(x_training, 5, model, 'Linear Regression')\n",
    "\n",
    "# Regularized Linear Regression\n",
    "model = Lasso(alpha=0.0001)\n",
    "lrr_cv = cross_validation(x_training, 5, model, 'Lasso')\n",
    "\n",
    "# Put together\n",
    "linear_cv = pd.concat([lr_cv, lrr_cv])\n",
    "linear_cv.sort_values('RMSE')\n",
    "\n",
    "\n",
    "print(linear_cv.to_markdown(tablefmt='grid'))\n",
    "\n",
    "\n",
    "linear_cv.to_pickle(\"linear.pkl\")"
   ]
  }
 ],
 "metadata": {
  "colab": {
   "name": "m07_cross_val_LinearModels_only.ipynb",
   "provenance": []
  },
  "kernelspec": {
   "display_name": "Python 3",
   "language": "python",
   "name": "python3"
  },
  "language_info": {
   "codemirror_mode": {
    "name": "ipython",
    "version": 3
   },
   "file_extension": ".py",
   "mimetype": "text/x-python",
   "name": "python",
   "nbconvert_exporter": "python",
   "pygments_lexer": "ipython3",
   "version": "3.8.5"
  }
 },
 "nbformat": 4,
 "nbformat_minor": 1
}

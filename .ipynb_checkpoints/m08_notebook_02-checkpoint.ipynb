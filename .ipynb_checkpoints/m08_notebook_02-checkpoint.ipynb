{
 "cells": [
  {
   "cell_type": "markdown",
   "metadata": {},
   "source": [
    "# 0.0 IMPORTS"
   ]
  },
  {
   "cell_type": "code",
   "execution_count": 1,
   "metadata": {
    "ExecuteTime": {
     "end_time": "2021-01-29T12:21:40.452437Z",
     "start_time": "2021-01-29T12:21:39.264075Z"
    }
   },
   "outputs": [],
   "source": [
    "import numpy               as np\n",
    "import pandas              as pd\n",
    "import math\n",
    "import random\n",
    "\n",
    "from scipy import stats as ss\n",
    "\n",
    "from sklearn.metrics import mean_absolute_error, mean_squared_error\n",
    "\n",
    "import datetime\n",
    "\n",
    "import xgboost as xgb"
   ]
  },
  {
   "cell_type": "markdown",
   "metadata": {},
   "source": [
    "## 0.1 Helper Functions"
   ]
  },
  {
   "cell_type": "code",
   "execution_count": 2,
   "metadata": {
    "ExecuteTime": {
     "end_time": "2021-01-29T12:21:40.488210Z",
     "start_time": "2021-01-29T12:21:40.457075Z"
    }
   },
   "outputs": [],
   "source": [
    "#Used in section 4.3.2 - EDA, Multivariate Analysis, Categorical Variables\n",
    "def cat_corr(x, y):\n",
    "    '''Cross frequencies'''\n",
    "    cont_mat = pd.crosstab(x, y).to_numpy()\n",
    "    \n",
    "    n = cont_mat.sum()\n",
    "    r, k = cont_mat.shape\n",
    "    \n",
    "    '''chi square statistics'''\n",
    "    chi2 = ss.chi2_contingency(cont_mat)[0]\n",
    "    \n",
    "    '''Corrected variables to compensate for bias:'''\n",
    "    chi2corr = max(0, (chi2/n) - (k - 1)*(r - 1)/(n-1))\n",
    "    r_corr = r - (r-1)**2/(n-1)\n",
    "    k_corr = k - (k-1)**2/(n-1)\n",
    "    \n",
    "    '''Cramérs V correlation'''''\n",
    "    cramer_v = np.sqrt((chi2corr)/(min(k_corr-1, r_corr-1)))\n",
    "    return cramer_v\n",
    "\n",
    "\n",
    "#Used in section 7 - Machine Learning Modelling\n",
    "def mean_percentage_error( y, yhat ):\n",
    "    return np.mean( ( y - yhat ) / y )\n",
    "     \n",
    "    \n",
    "def mean_absolute_percentage_error( y, yhat ):\n",
    "    return np.mean( np.abs( ( y - yhat ) / y ) )\n",
    "\n",
    "    \n",
    "def ml_error( model_name, y, yhat ):\n",
    "    mae = mean_absolute_error( y, yhat )\n",
    "    mape = mean_absolute_percentage_error( y, yhat )\n",
    "    rmse = np.sqrt( mean_squared_error( y, yhat ) )\n",
    "    \n",
    "    return pd.DataFrame( { 'Model Name': model_name, \n",
    "                           'MAE': mae, \n",
    "                           'MAPE': mape,\n",
    "                           'RMSE': rmse }, index=[0] )\n",
    "\n",
    "\n",
    "#Used in section 7 - Machine Learning Modelling (cross validation)\n",
    "def cross_validation(training_data, kfolds, model, model_name, verbose=False):\n",
    "  mae_list = []\n",
    "  mape_list = []\n",
    "  rmse_list = []\n",
    "  for k in reversed(range(1, kfolds+1)):\n",
    "    if verbose:\n",
    "      print('\\nKFold Number: {}'.format(k))\n",
    "    #time intervals of 6 weeks\n",
    "    validation_start_date = training_data['date'].max() - datetime.timedelta(days=k*6*7)\n",
    "    validation_end_date = training_data['date'].max() - datetime.timedelta(days=(k-1)*6*7)\n",
    "\n",
    "    #split data into training and validation\n",
    "    training = training_data[training_data['date'] < validation_start_date]\n",
    "    validation = training_data[(training_data['date'] >= validation_start_date) & (training_data['date'] <= validation_end_date)]\n",
    "\n",
    "    xtraining = training.drop(['date', 'sales'], axis=1)\n",
    "    ytraining = training['sales']\n",
    "\n",
    "    xvalidation = validation.drop(['date', 'sales'], axis=1)\n",
    "    yvalidation = validation['sales']\n",
    "\n",
    "    #implement a model to get the results\n",
    "    m = model.fit(xtraining, ytraining)\n",
    "    yhat = m.predict(xvalidation)\n",
    "    m_result = ml_error(model_name, np.expm1(yvalidation), np.expm1(yhat))\n",
    "\n",
    "    mae_list.append(m_result['MAE'])\n",
    "    mape_list.append(m_result['MAPE'])\n",
    "    rmse_list.append(m_result['RMSE'])\n",
    "\n",
    "  return pd.DataFrame({'Model name':model_name,\n",
    "                       'MAE':np.round(np.mean(mae_list), 2).astype(str) + '+/-' + np.round(np.std(mae_list), 2).astype(str),\n",
    "                       'MAPE':np.round(np.mean(mape_list), 2).astype(str) + '+/-' + np.round(np.std(mape_list), 2).astype(str),\n",
    "                       'RMSE':np.round(np.mean(rmse_list), 2).astype(str) + '+/-' + np.round(np.std(rmse_list), 2).astype(str)}, index=[0])"
   ]
  },
  {
   "cell_type": "markdown",
   "metadata": {},
   "source": [
    "## 0.2 Loading Data"
   ]
  },
  {
   "cell_type": "code",
   "execution_count": 3,
   "metadata": {
    "ExecuteTime": {
     "end_time": "2021-01-29T12:21:40.728073Z",
     "start_time": "2021-01-29T12:21:40.495683Z"
    }
   },
   "outputs": [],
   "source": [
    "x_training = pd.read_pickle('ml_models_comp/x_training.pkl')\n",
    "x_testing = pd.read_pickle('ml_models_comp/x_testing.pkl')"
   ]
  },
  {
   "cell_type": "markdown",
   "metadata": {},
   "source": [
    "# 8.0 Hyperparameter Fine Tuning"
   ]
  },
  {
   "cell_type": "markdown",
   "metadata": {},
   "source": [
    "## 8.1 Random Search"
   ]
  },
  {
   "cell_type": "code",
   "execution_count": 4,
   "metadata": {
    "ExecuteTime": {
     "end_time": "2021-01-29T12:21:40.732254Z",
     "start_time": "2021-01-29T12:21:40.729475Z"
    }
   },
   "outputs": [],
   "source": [
    "param = {'n_estimators':[1500, 1700, 2500, 3000, 3500],\n",
    "         'eta':[0.01, 0.03],\n",
    "         'max_depth':[3, 5, 9],\n",
    "         'subsample':[0.1, 0.5, 0.7],\n",
    "         'colsample_bytree':[0.3, 0.7, 0.9],\n",
    "         'min_child_weight':[3, 8, 15],\n",
    "        }\n",
    "\n",
    "MAX_EVAL = 5"
   ]
  },
  {
   "cell_type": "code",
   "execution_count": 5,
   "metadata": {
    "ExecuteTime": {
     "end_time": "2021-01-29T13:47:51.414868Z",
     "start_time": "2021-01-29T12:21:40.733611Z"
    },
    "scrolled": true
   },
   "outputs": [
    {
     "name": "stdout",
     "output_type": "stream",
     "text": [
      "{'n_estimators': 2500, 'eta': 0.03, 'max_depth': 5, 'subsample': 0.5, 'colsample_bytree': 0.9, 'min_child_weight': 15}\n",
      "{'n_estimators': 3000, 'eta': 0.03, 'max_depth': 5, 'subsample': 0.5, 'colsample_bytree': 0.3, 'min_child_weight': 15}\n",
      "{'n_estimators': 1500, 'eta': 0.03, 'max_depth': 9, 'subsample': 0.5, 'colsample_bytree': 0.3, 'min_child_weight': 15}\n",
      "{'n_estimators': 1700, 'eta': 0.01, 'max_depth': 9, 'subsample': 0.5, 'colsample_bytree': 0.3, 'min_child_weight': 8}\n",
      "{'n_estimators': 1500, 'eta': 0.01, 'max_depth': 5, 'subsample': 0.7, 'colsample_bytree': 0.3, 'min_child_weight': 15}\n"
     ]
    },
    {
     "data": {
      "text/html": [
       "<div>\n",
       "<style scoped>\n",
       "    .dataframe tbody tr th:only-of-type {\n",
       "        vertical-align: middle;\n",
       "    }\n",
       "\n",
       "    .dataframe tbody tr th {\n",
       "        vertical-align: top;\n",
       "    }\n",
       "\n",
       "    .dataframe thead th {\n",
       "        text-align: right;\n",
       "    }\n",
       "</style>\n",
       "<table border=\"1\" class=\"dataframe\">\n",
       "  <thead>\n",
       "    <tr style=\"text-align: right;\">\n",
       "      <th></th>\n",
       "      <th>Model name</th>\n",
       "      <th>MAE</th>\n",
       "      <th>MAPE</th>\n",
       "      <th>RMSE</th>\n",
       "      <th>Iter_nr</th>\n",
       "    </tr>\n",
       "  </thead>\n",
       "  <tbody>\n",
       "    <tr>\n",
       "      <th>0</th>\n",
       "      <td>XGBoost Regressor</td>\n",
       "      <td>1060.9+/-214.32</td>\n",
       "      <td>0.15+/-0.02</td>\n",
       "      <td>1524.59+/-323.53</td>\n",
       "      <td>2</td>\n",
       "    </tr>\n",
       "    <tr>\n",
       "      <th>1</th>\n",
       "      <td>XGBoost Regressor</td>\n",
       "      <td>1105.25+/-223.98</td>\n",
       "      <td>0.15+/-0.02</td>\n",
       "      <td>1580.0+/-321.4</td>\n",
       "      <td>0</td>\n",
       "    </tr>\n",
       "    <tr>\n",
       "      <th>2</th>\n",
       "      <td>XGBoost Regressor</td>\n",
       "      <td>1219.85+/-208.73</td>\n",
       "      <td>0.17+/-0.02</td>\n",
       "      <td>1754.97+/-309.45</td>\n",
       "      <td>1</td>\n",
       "    </tr>\n",
       "    <tr>\n",
       "      <th>3</th>\n",
       "      <td>XGBoost Regressor</td>\n",
       "      <td>1283.07+/-228.85</td>\n",
       "      <td>0.17+/-0.01</td>\n",
       "      <td>1846.53+/-329.13</td>\n",
       "      <td>3</td>\n",
       "    </tr>\n",
       "    <tr>\n",
       "      <th>4</th>\n",
       "      <td>XGBoost Regressor</td>\n",
       "      <td>1731.8+/-254.52</td>\n",
       "      <td>0.24+/-0.01</td>\n",
       "      <td>2485.59+/-361.14</td>\n",
       "      <td>4</td>\n",
       "    </tr>\n",
       "  </tbody>\n",
       "</table>\n",
       "</div>"
      ],
      "text/plain": [
       "          Model name               MAE         MAPE              RMSE  Iter_nr\n",
       "0  XGBoost Regressor   1060.9+/-214.32  0.15+/-0.02  1524.59+/-323.53        2\n",
       "1  XGBoost Regressor  1105.25+/-223.98  0.15+/-0.02    1580.0+/-321.4        0\n",
       "2  XGBoost Regressor  1219.85+/-208.73  0.17+/-0.02  1754.97+/-309.45        1\n",
       "3  XGBoost Regressor  1283.07+/-228.85  0.17+/-0.01  1846.53+/-329.13        3\n",
       "4  XGBoost Regressor   1731.8+/-254.52  0.24+/-0.01  2485.59+/-361.14        4"
      ]
     },
     "execution_count": 5,
     "metadata": {},
     "output_type": "execute_result"
    }
   ],
   "source": [
    "final_result = pd.DataFrame()\n",
    "hyperparam_lst = []\n",
    "\n",
    "for i in range(MAX_EVAL):\n",
    "    #randomly selected hyperparameters\n",
    "    hp = {k:random.sample(v, 1)[0] for k, v in param.items()}\n",
    "    #print the selected ones\n",
    "    print(hp)\n",
    "    #store in list\n",
    "    hyperparam_lst.append(hp.copy())\n",
    "    #model\n",
    "    model_xgb = xgb.XGBRegressor(objective='reg:squarederror',\n",
    "                                 n_estimators=hp['n_estimators'],\n",
    "                                 eta=hp['eta'],\n",
    "                                 max_depth=hp['max_depth'],\n",
    "                                 subsample=hp['subsample'],\n",
    "                                 colsample_bytree=hp['colsample_bytree'],\n",
    "                                 min_child_weight=hp['min_child_weight']\n",
    "                                 )\n",
    "    result = cross_validation(x_training, 5, model_xgb, 'XGBoost Regressor', verbose=False)\n",
    "    iter_nr = pd.Series([i], name='Iter_nr')\n",
    "    result_w_nr = pd.concat([result, iter_nr], axis=1)\n",
    "    final_result = pd.concat([final_result, result_w_nr], ignore_index=True)\n",
    "\n",
    "final_result.sort_values(by=['RMSE'], inplace=True, ignore_index=True)\n",
    "final_result"
   ]
  },
  {
   "cell_type": "markdown",
   "metadata": {},
   "source": [
    "## 8.2 Final Model"
   ]
  },
  {
   "cell_type": "code",
   "execution_count": 6,
   "metadata": {
    "ExecuteTime": {
     "end_time": "2021-01-29T13:50:20.103581Z",
     "start_time": "2021-01-29T13:50:20.099464Z"
    }
   },
   "outputs": [
    {
     "data": {
      "text/plain": [
       "2"
      ]
     },
     "execution_count": 6,
     "metadata": {},
     "output_type": "execute_result"
    }
   ],
   "source": [
    "final_result.loc[0, 'Iter_nr']"
   ]
  },
  {
   "cell_type": "code",
   "execution_count": 7,
   "metadata": {
    "ExecuteTime": {
     "end_time": "2021-01-29T13:59:29.973303Z",
     "start_time": "2021-01-29T13:59:29.971200Z"
    }
   },
   "outputs": [],
   "source": [
    "best_param_nr = final_result.loc[0, 'Iter_nr']\n",
    "\n",
    "param_tuned = hyperparam_lst[best_param_nr]"
   ]
  },
  {
   "cell_type": "code",
   "execution_count": 8,
   "metadata": {
    "ExecuteTime": {
     "end_time": "2021-01-29T13:59:32.505629Z",
     "start_time": "2021-01-29T13:59:32.488203Z"
    }
   },
   "outputs": [],
   "source": [
    "x_train = x_training.drop(['date', 'sales'], axis=1)\n",
    "y_train = x_training['sales']\n",
    "\n",
    "x_test = x_testing.drop(['date', 'sales'], axis=1)\n",
    "y_test = x_testing['sales']"
   ]
  },
  {
   "cell_type": "code",
   "execution_count": 9,
   "metadata": {
    "ExecuteTime": {
     "end_time": "2021-01-29T14:03:17.494680Z",
     "start_time": "2021-01-29T13:59:37.718368Z"
    }
   },
   "outputs": [
    {
     "data": {
      "text/html": [
       "<div>\n",
       "<style scoped>\n",
       "    .dataframe tbody tr th:only-of-type {\n",
       "        vertical-align: middle;\n",
       "    }\n",
       "\n",
       "    .dataframe tbody tr th {\n",
       "        vertical-align: top;\n",
       "    }\n",
       "\n",
       "    .dataframe thead th {\n",
       "        text-align: right;\n",
       "    }\n",
       "</style>\n",
       "<table border=\"1\" class=\"dataframe\">\n",
       "  <thead>\n",
       "    <tr style=\"text-align: right;\">\n",
       "      <th></th>\n",
       "      <th>Model Name</th>\n",
       "      <th>MAE</th>\n",
       "      <th>MAPE</th>\n",
       "      <th>RMSE</th>\n",
       "    </tr>\n",
       "  </thead>\n",
       "  <tbody>\n",
       "    <tr>\n",
       "      <th>0</th>\n",
       "      <td>XGBoost Regressor</td>\n",
       "      <td>881.376803</td>\n",
       "      <td>0.135012</td>\n",
       "      <td>1235.004412</td>\n",
       "    </tr>\n",
       "  </tbody>\n",
       "</table>\n",
       "</div>"
      ],
      "text/plain": [
       "          Model Name         MAE      MAPE         RMSE\n",
       "0  XGBoost Regressor  881.376803  0.135012  1235.004412"
      ]
     },
     "execution_count": 9,
     "metadata": {},
     "output_type": "execute_result"
    }
   ],
   "source": [
    "#model\n",
    "model_xgb_tuned = xgb.XGBRegressor(objective='reg:squarederror',\n",
    "                                   n_estimators=param_tuned['n_estimators'],\n",
    "                                   eta=param_tuned['eta'],\n",
    "                                   max_depth=param_tuned['max_depth'],\n",
    "                                   subsample=param_tuned['subsample'],\n",
    "                                   colsample_bytree=param_tuned['colsample_bytree'],\n",
    "                                   min_child_weight=param_tuned['min_child_weight']\n",
    "                                  ).fit(x_train, y_train)\n",
    "\n",
    "yhat_xgb_tuned = model_xgb_tuned.predict(x_test)\n",
    "\n",
    "xgb_result = ml_error('XGBoost Regressor', np.expm1(y_test), np.expm1(yhat_xgb_tuned))\n",
    "xgb_result"
   ]
  },
  {
   "cell_type": "code",
   "execution_count": 10,
   "metadata": {
    "ExecuteTime": {
     "end_time": "2021-01-29T14:07:15.788429Z",
     "start_time": "2021-01-29T14:07:15.782869Z"
    }
   },
   "outputs": [
    {
     "data": {
      "text/plain": [
       "-0.0362828115743513"
      ]
     },
     "execution_count": 10,
     "metadata": {},
     "output_type": "execute_result"
    }
   ],
   "source": [
    "mpe = mean_percentage_error(np.expm1(y_test), np.expm1(yhat_xgb_tuned))\n",
    "mpe"
   ]
  },
  {
   "cell_type": "code",
   "execution_count": 11,
   "metadata": {
    "ExecuteTime": {
     "end_time": "2021-01-29T14:09:14.891040Z",
     "start_time": "2021-01-29T14:09:14.885849Z"
    }
   },
   "outputs": [],
   "source": [
    "import pickle"
   ]
  },
  {
   "cell_type": "code",
   "execution_count": 12,
   "metadata": {
    "ExecuteTime": {
     "end_time": "2021-01-29T14:12:51.548851Z",
     "start_time": "2021-01-29T14:12:50.763654Z"
    }
   },
   "outputs": [],
   "source": [
    "pickle.dump(model_xgb_tuned, open(\"ml_models_comp/model_xgb_tuned.pkl\", \"wb\"))"
   ]
  },
  {
   "cell_type": "code",
   "execution_count": 13,
   "metadata": {
    "ExecuteTime": {
     "end_time": "2021-01-29T14:12:53.291099Z",
     "start_time": "2021-01-29T14:12:53.288620Z"
    }
   },
   "outputs": [],
   "source": [
    "xgb_result.to_pickle('ml_models_comp/xgb_fine_tuned.pkl')"
   ]
  },
  {
   "cell_type": "code",
   "execution_count": 14,
   "metadata": {
    "ExecuteTime": {
     "end_time": "2021-01-29T14:31:12.786156Z",
     "start_time": "2021-01-29T14:31:12.759157Z"
    }
   },
   "outputs": [],
   "source": [
    "final_result.to_pickle('ml_models_comp/xgb_tunning_cv.pkl')"
   ]
  }
 ],
 "metadata": {
  "kernelspec": {
   "display_name": "Python 3",
   "language": "python",
   "name": "python3"
  },
  "language_info": {
   "codemirror_mode": {
    "name": "ipython",
    "version": 3
   },
   "file_extension": ".py",
   "mimetype": "text/x-python",
   "name": "python",
   "nbconvert_exporter": "python",
   "pygments_lexer": "ipython3",
   "version": "3.8.5"
  },
  "toc": {
   "base_numbering": 1,
   "nav_menu": {},
   "number_sections": false,
   "sideBar": true,
   "skip_h1_title": false,
   "title_cell": "Table of Contents",
   "title_sidebar": "Contents",
   "toc_cell": false,
   "toc_position": {},
   "toc_section_display": true,
   "toc_window_display": false
  }
 },
 "nbformat": 4,
 "nbformat_minor": 4
}

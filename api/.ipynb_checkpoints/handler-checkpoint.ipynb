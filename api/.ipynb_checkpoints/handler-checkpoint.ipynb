{
 "cells": [
  {
   "cell_type": "code",
   "execution_count": 1,
   "metadata": {
    "ExecuteTime": {
     "end_time": "2021-02-07T01:27:57.055811Z",
     "start_time": "2021-02-07T01:24:45.173995Z"
    }
   },
   "outputs": [
    {
     "name": "stdout",
     "output_type": "stream",
     "text": [
      " * Serving Flask app \"__main__\" (lazy loading)\n",
      " * Environment: production\n",
      "   WARNING: This is a development server. Do not use it in a production deployment.\n",
      "   Use a production WSGI server instead.\n",
      " * Debug mode: off\n"
     ]
    },
    {
     "name": "stderr",
     "output_type": "stream",
     "text": [
      " * Running on http://0.0.0.0:5000/ (Press CTRL+C to quit)\n",
      "127.0.0.1 - - [06/Feb/2021 22:27:40] \"\u001b[37mPOST /rossmann/predict HTTP/1.1\u001b[0m\" 200 -\n"
     ]
    }
   ],
   "source": [
    "import pandas as pd\n",
    "from flask import Flask, request, Response\n",
    "from rossmann.Rossmann import Rossmann  # o pacote é a pasta. Deste, quer-se o Arquivo, e importa-se a Classe.\n",
    "import pickle\n",
    "\n",
    "# loading model\n",
    "model = pickle.load(open('/home/marcos/Documentos/comunidade_DS/DataScience_em_Producao/DataScience_Em_Producao/marcos/model/model_rossmann.pkl', 'rb'))\n",
    "\n",
    "# initialize API\n",
    "app = Flask(__name__)\n",
    "\n",
    "\n",
    "@app.route('/rossmann/predict', methods=['POST'])\n",
    "def rossmann_predict():\n",
    "    test_json = request.get_json()\n",
    "\n",
    "    if test_json:\n",
    "        if isinstance(test_json, dict):  # unique example\n",
    "            test_raw = pd.DataFrame(test_json, index=[0])\n",
    "        else:  # multiple examples\n",
    "            test_raw = pd.DataFrame(test_json, columns=test_json[0].keys())\n",
    "\n",
    "        # instantiate Rossmann class\n",
    "        pipeline = Rossmann()\n",
    "\n",
    "        # data cleaning\n",
    "        df1 = pipeline.data_cleaning(test_raw)\n",
    "\n",
    "        # feature engineering\n",
    "        df2 = pipeline.feature_engineering(df1)\n",
    "\n",
    "        # data preparation\n",
    "        df3 = pipeline.data_preparation(df2)\n",
    "\n",
    "        # prediction\n",
    "        df_response = pipeline.get_prediction(model, test_raw, df3)\n",
    "\n",
    "        return df_response\n",
    "\n",
    "    else:\n",
    "        return Response('{}', status=200, mimetype='application/json')\n",
    "\n",
    "\n",
    "if __name__ == '__main__':\n",
    "    app.run('0.0.0.0')\n"
   ]
  }
 ],
 "metadata": {
  "kernelspec": {
   "display_name": "Python 3",
   "language": "python",
   "name": "python3"
  },
  "language_info": {
   "codemirror_mode": {
    "name": "ipython",
    "version": 3
   },
   "file_extension": ".py",
   "mimetype": "text/x-python",
   "name": "python",
   "nbconvert_exporter": "python",
   "pygments_lexer": "ipython3",
   "version": "3.8.5"
  }
 },
 "nbformat": 4,
 "nbformat_minor": 4
}

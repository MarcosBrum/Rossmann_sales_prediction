{
  "nbformat": 4,
  "nbformat_minor": 0,
  "metadata": {
    "colab": {
      "name": "m07_cross_val_xgboost_only.ipynb",
      "provenance": []
    },
    "kernelspec": {
      "name": "python3",
      "display_name": "Python 3"
    }
  },
  "cells": [
    {
      "cell_type": "code",
      "metadata": {
        "id": "AvWRdI-AirqT"
      },
      "source": [
        "\"\"\"\n",
        "0.0 IMPORTS\n",
        "\"\"\"\n",
        "\n",
        "import pandas as pd\n",
        "import numpy as np\n",
        "\n",
        "import datetime\n",
        "\n",
        "from sklearn.ensemble import RandomForestRegressor\n",
        "from sklearn.metrics import mean_absolute_error, mean_squared_error\n",
        "from sklearn.linear_model import LinearRegression, Lasso\n",
        "\n",
        "import xgboost as xgb"
      ],
      "execution_count": 1,
      "outputs": []
    },
    {
      "cell_type": "code",
      "metadata": {
        "id": "-KYEGh7Ai44S"
      },
      "source": [
        "\"\"\"\n",
        "0.1 Functions\n",
        "\"\"\"\n",
        "\n",
        "\n",
        "def mean_percentage_error(y, yhat):\n",
        "    return np.mean((y - yhat)/y)\n",
        "\n",
        "\n",
        "def mean_absolute_percentage_error(y, yhat):\n",
        "    return np.mean(np.abs((y - yhat)/y))\n",
        "\n",
        "\n",
        "def ml_error(model_name, y, yhat):\n",
        "    mae = mean_absolute_error(y, yhat)\n",
        "    mape = mean_absolute_percentage_error(y, yhat)\n",
        "    rmse = np.sqrt(mean_squared_error(y, yhat))\n",
        "    return pd.DataFrame({'Model Name': model_name, 'MAE': mae, 'MAPE': mape, 'RMSE': rmse}, index=[0])\n",
        "\n",
        "\n",
        "def cross_validation(training_data, kfolds, model, model_name, verbose=False):\n",
        "    mae_list = []\n",
        "    mape_list = []\n",
        "    rmse_list = []\n",
        "    for k in reversed(range(1, kfolds+1)):\n",
        "        if verbose:\n",
        "            print('\\nKFold Number: {}'.format(k))\n",
        "        # time intervals of 6 weeks\n",
        "        validation_start_date = training_data['date'].max() - datetime.timedelta(days=k*6*7)\n",
        "        validation_end_date = training_data['date'].max() - datetime.timedelta(days=(k-1)*6*7)\n",
        "\n",
        "        # split data into training and validation\n",
        "        training = training_data[training_data['date'] < validation_start_date]\n",
        "        validation = training_data[(training_data['date'] >= validation_start_date) & (training_data['date'] <= validation_end_date)]\n",
        "\n",
        "        xtraining = training.drop(['date', 'sales'], axis=1)\n",
        "        ytraining = training['sales']\n",
        "\n",
        "        xvalidation = validation.drop(['date', 'sales'], axis=1)\n",
        "        yvalidation = validation['sales']\n",
        "\n",
        "        # implement a model to get the results\n",
        "        m = model.fit(xtraining, ytraining)\n",
        "        yhat = m.predict(xvalidation)\n",
        "        m_result = ml_error(model_name, np.expm1(yvalidation), np.expm1(yhat))\n",
        "\n",
        "        mae_list.append(m_result['MAE'])\n",
        "        mape_list.append(m_result['MAPE'])\n",
        "        rmse_list.append(m_result['RMSE'])\n",
        "\n",
        "    return pd.DataFrame({'Model name':model_name,\n",
        "    'MAE':np.round(np.mean(mae_list), 2).astype(str) + '+/-' + np.round(np.std(mae_list), 2).astype(str),\n",
        "    'MAPE':np.round(np.mean(mape_list), 2).astype(str) + '+/-' + np.round(np.std(mape_list), 2).astype(str),\n",
        "    'RMSE':np.round(np.mean(rmse_list), 2).astype(str) + '+/-' + np.round(np.std(rmse_list), 2).astype(str)}, index=[0])"
      ],
      "execution_count": 2,
      "outputs": []
    },
    {
      "cell_type": "code",
      "metadata": {
        "id": "oS8cf1Qsi9IW"
      },
      "source": [
        "\"\"\"\n",
        "Load data\n",
        "\"\"\"\n",
        "\n",
        "x_training = pd.read_pickle('x_training.pkl')"
      ],
      "execution_count": 3,
      "outputs": []
    },
    {
      "cell_type": "code",
      "metadata": {
        "id": "1tz01xyzi_AL",
        "colab": {
          "base_uri": "https://localhost:8080/"
        },
        "outputId": "557b78a9-f417-4113-df56-9ea8a6d9c1ff"
      },
      "source": [
        "\"\"\"\n",
        "Compare models' performance - cross validation\n",
        "\"\"\"\n",
        "\n",
        "# XGBoost\n",
        "model = xgb.XGBRegressor(objective='reg:squarederror', n_estimators=100, eta=0.01, max_depth=10, subsample=0.7, colsample_bytree=0.9)\n",
        "xgb_cv = cross_validation(x_training, 5, model, 'XGBoost', verbose=True)\n",
        "\n",
        "\n",
        "print(xgb_cv.to_markdown(tablefmt='grid'))\n",
        "\n",
        "\n",
        "xgb_cv.to_pickle(\"xgb.pkl\")"
      ],
      "execution_count": 4,
      "outputs": [
        {
          "output_type": "stream",
          "text": [
            "\n",
            "KFold Number: 5\n",
            "\n",
            "KFold Number: 4\n",
            "\n",
            "KFold Number: 3\n",
            "\n",
            "KFold Number: 2\n",
            "\n",
            "KFold Number: 1\n",
            "+----+--------------+------------------+-------------+------------------+\n",
            "|    | Model name   | MAE              | MAPE        | RMSE             |\n",
            "+====+==============+==================+=============+==================+\n",
            "|  0 | XGBoost      | 1177.07+/-245.14 | 0.16+/-0.02 | 1707.26+/-355.68 |\n",
            "+----+--------------+------------------+-------------+------------------+\n"
          ],
          "name": "stdout"
        }
      ]
    }
  ]
}
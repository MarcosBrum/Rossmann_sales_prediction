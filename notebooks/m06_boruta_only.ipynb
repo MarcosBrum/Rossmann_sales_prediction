{
 "cells": [
  {
   "cell_type": "markdown",
   "metadata": {
    "id": "jO8LU77_Z74e"
   },
   "source": [
    "# 0.0 IMPORTS"
   ]
  },
  {
   "cell_type": "code",
   "execution_count": 1,
   "metadata": {
    "ExecuteTime": {
     "end_time": "2021-01-13T20:31:53.823293Z",
     "start_time": "2021-01-13T20:31:52.014934Z"
    },
    "colab": {
     "base_uri": "https://localhost:8080/"
    },
    "executionInfo": {
     "elapsed": 5112,
     "status": "ok",
     "timestamp": 1610727725819,
     "user": {
      "displayName": "Marcos Brum",
      "photoUrl": "",
      "userId": "01128907480799177332"
     },
     "user_tz": 180
    },
    "id": "o_5DLTj6Z74k",
    "outputId": "8e6904eb-5e54-4f5f-efa7-ced225dfe12f"
   },
   "outputs": [
    {
     "name": "stdout",
     "output_type": "stream",
     "text": [
      "Requirement already satisfied: boruta in /usr/local/lib/python3.6/dist-packages (0.3)\n",
      "Requirement already satisfied: scikit-learn>=0.17.1 in /usr/local/lib/python3.6/dist-packages (from boruta) (0.22.2.post1)\n",
      "Requirement already satisfied: scipy>=0.17.0 in /usr/local/lib/python3.6/dist-packages (from boruta) (1.4.1)\n",
      "Requirement already satisfied: numpy>=1.10.4 in /usr/local/lib/python3.6/dist-packages (from boruta) (1.19.5)\n",
      "Requirement already satisfied: joblib>=0.11 in /usr/local/lib/python3.6/dist-packages (from scikit-learn>=0.17.1->boruta) (1.0.0)\n"
     ]
    }
   ],
   "source": [
    "import numpy               as np\n",
    "import pandas              as pd\n",
    "\n",
    "import datetime\n",
    "\n",
    "from sklearn.ensemble      import RandomForestRegressor\n",
    "\n",
    "!pip install boruta\n",
    "from boruta import BorutaPy\n",
    "\n",
    "from IPython.display import display #only outside of Jupyter Notebook"
   ]
  },
  {
   "cell_type": "markdown",
   "metadata": {
    "id": "Rh5A2Ux8Z75O"
   },
   "source": [
    "# 6.0 Feature Selection"
   ]
  },
  {
   "cell_type": "code",
   "execution_count": 2,
   "metadata": {
    "ExecuteTime": {
     "end_time": "2021-01-13T20:34:20.725112Z",
     "start_time": "2021-01-13T20:34:20.671311Z"
    },
    "executionInfo": {
     "elapsed": 8540,
     "status": "ok",
     "timestamp": 1610727729270,
     "user": {
      "displayName": "Marcos Brum",
      "photoUrl": "",
      "userId": "01128907480799177332"
     },
     "user_tz": 180
    },
    "id": "QHB2I7HaZ75O"
   },
   "outputs": [],
   "source": [
    "df6 = pd.read_csv('df5.csv')"
   ]
  },
  {
   "cell_type": "markdown",
   "metadata": {
    "id": "SqqMUZjtZ75O"
   },
   "source": [
    "Remove repeated and auxiliary variables:"
   ]
  },
  {
   "cell_type": "code",
   "execution_count": 3,
   "metadata": {
    "ExecuteTime": {
     "end_time": "2021-01-13T20:34:20.728633Z",
     "start_time": "2021-01-13T20:34:20.726272Z"
    },
    "executionInfo": {
     "elapsed": 8543,
     "status": "ok",
     "timestamp": 1610727729288,
     "user": {
      "displayName": "Marcos Brum",
      "photoUrl": "",
      "userId": "01128907480799177332"
     },
     "user_tz": 180
    },
    "id": "20x-qR-TZ75O"
   },
   "outputs": [],
   "source": [
    "remove_cols = ['day_of_week', 'week_of_year', 'day', 'month', 'promo_since', 'competition_since', 'year_week']\n",
    "\n",
    "df6 = df6.drop(remove_cols, axis=1)"
   ]
  },
  {
   "cell_type": "code",
   "execution_count": 4,
   "metadata": {
    "colab": {
     "base_uri": "https://localhost:8080/"
    },
    "executionInfo": {
     "elapsed": 8537,
     "status": "ok",
     "timestamp": 1610727729296,
     "user": {
      "displayName": "Marcos Brum",
      "photoUrl": "",
      "userId": "01128907480799177332"
     },
     "user_tz": 180
    },
    "id": "SFwugZ4Ez014",
    "outputId": "aa258462-468f-4c53-ab14-a2cac890afdf"
   },
   "outputs": [
    {
     "data": {
      "text/plain": [
       "store                             int64\n",
       "date                             object\n",
       "sales                           float64\n",
       "promo                             int64\n",
       "school_holiday                    int64\n",
       "store_type                        int64\n",
       "assortment                        int64\n",
       "competition_distance            float64\n",
       "competition_open_since_month      int64\n",
       "competition_open_since_year       int64\n",
       "promo2                            int64\n",
       "promo2_since_week                 int64\n",
       "promo2_since_year                 int64\n",
       "is_promo                          int64\n",
       "year                            float64\n",
       "competition_time_month          float64\n",
       "promo_time_week                 float64\n",
       "state_holiday_christmas           int64\n",
       "state_holiday_easter_holiday      int64\n",
       "state_holiday_public_holiday      int64\n",
       "state_holiday_regular_day         int64\n",
       "month_sin                       float64\n",
       "month_cos                       float64\n",
       "day_sin                         float64\n",
       "day_cos                         float64\n",
       "week_of_year_sin                float64\n",
       "week_of_year_cos                float64\n",
       "day_of_week_sin                 float64\n",
       "day_of_week_cos                 float64\n",
       "dtype: object"
      ]
     },
     "execution_count": 4,
     "metadata": {
      "tags": []
     },
     "output_type": "execute_result"
    }
   ],
   "source": [
    "df6.dtypes"
   ]
  },
  {
   "cell_type": "code",
   "execution_count": 5,
   "metadata": {
    "executionInfo": {
     "elapsed": 8525,
     "status": "ok",
     "timestamp": 1610727729302,
     "user": {
      "displayName": "Marcos Brum",
      "photoUrl": "",
      "userId": "01128907480799177332"
     },
     "user_tz": 180
    },
    "id": "k4NFaaqlz30P"
   },
   "outputs": [],
   "source": [
    "df6['date'] = pd.to_datetime(df6['date'])\n",
    "\n",
    "df6['sales'] = df6['sales'].astype(int)\n",
    "\n",
    "df6['year'] = df6['year'].astype(int)\n",
    "\n",
    "df6['competition_time_month'] = df6['competition_time_month'].astype(int)"
   ]
  },
  {
   "cell_type": "markdown",
   "metadata": {
    "id": "-cBZcFIcZ75P"
   },
   "source": [
    "## 6.1 Split original DataFrame into train and test"
   ]
  },
  {
   "cell_type": "code",
   "execution_count": 6,
   "metadata": {
    "ExecuteTime": {
     "end_time": "2021-01-13T20:34:20.895569Z",
     "start_time": "2021-01-13T20:34:20.888603Z"
    },
    "executionInfo": {
     "elapsed": 8927,
     "status": "ok",
     "timestamp": 1610727729715,
     "user": {
      "displayName": "Marcos Brum",
      "photoUrl": "",
      "userId": "01128907480799177332"
     },
     "user_tz": 180
    },
    "id": "Xhn9YDGiZ75P"
   },
   "outputs": [],
   "source": [
    "date_filter = df6['date'].max() - datetime.timedelta(days=6*7)\n",
    "\n",
    "df6_train = df6[df6['date'] < date_filter]\n",
    "df6_test = df6[df6['date'] >= date_filter]"
   ]
  },
  {
   "cell_type": "code",
   "execution_count": 7,
   "metadata": {
    "ExecuteTime": {
     "end_time": "2021-01-13T20:34:21.024102Z",
     "start_time": "2021-01-13T20:34:20.980348Z"
    },
    "executionInfo": {
     "elapsed": 8921,
     "status": "ok",
     "timestamp": 1610727729718,
     "user": {
      "displayName": "Marcos Brum",
      "photoUrl": "",
      "userId": "01128907480799177332"
     },
     "user_tz": 180
    },
    "id": "htfy11R4Z75P"
   },
   "outputs": [],
   "source": [
    "X_train = df6_train.drop(['date', 'sales'], axis=1)\n",
    "y_train = df6_train['sales']\n",
    "\n",
    "X_test = df6_test.drop(['date', 'sales'], axis=1)\n",
    "y_test = df6_test['sales']"
   ]
  },
  {
   "cell_type": "markdown",
   "metadata": {
    "id": "NXZjFRN3Z75P"
   },
   "source": [
    "## 6.2 Boruta as Feature selector"
   ]
  },
  {
   "cell_type": "code",
   "execution_count": 8,
   "metadata": {
    "ExecuteTime": {
     "end_time": "2021-01-13T20:34:21.027530Z",
     "start_time": "2021-01-13T20:34:21.025308Z"
    },
    "executionInfo": {
     "elapsed": 8917,
     "status": "ok",
     "timestamp": 1610727729720,
     "user": {
      "displayName": "Marcos Brum",
      "photoUrl": "",
      "userId": "01128907480799177332"
     },
     "user_tz": 180
    },
    "id": "tTCxREjSZ75Q"
   },
   "outputs": [],
   "source": [
    "rf = RandomForestRegressor(n_jobs=-1)"
   ]
  },
  {
   "cell_type": "markdown",
   "metadata": {
    "id": "YwG9fHxYZ75Q"
   },
   "source": [
    "The Boruta selector only takes arrays as input"
   ]
  },
  {
   "cell_type": "code",
   "execution_count": 9,
   "metadata": {
    "ExecuteTime": {
     "end_time": "2021-01-13T20:34:21.068639Z",
     "start_time": "2021-01-13T20:34:21.028836Z"
    },
    "executionInfo": {
     "elapsed": 8914,
     "status": "ok",
     "timestamp": 1610727729723,
     "user": {
      "displayName": "Marcos Brum",
      "photoUrl": "",
      "userId": "01128907480799177332"
     },
     "user_tz": 180
    },
    "id": "jk70OFF7Z75Q"
   },
   "outputs": [],
   "source": [
    "X_train_arr = X_train.to_numpy()\n",
    "y_train_arr = y_train.ravel()"
   ]
  },
  {
   "cell_type": "code",
   "execution_count": 10,
   "metadata": {
    "ExecuteTime": {
     "start_time": "2021-01-13T20:31:52.652Z"
    },
    "colab": {
     "base_uri": "https://localhost:8080/"
    },
    "executionInfo": {
     "elapsed": 13769053,
     "status": "ok",
     "timestamp": 1610741489867,
     "user": {
      "displayName": "Marcos Brum",
      "photoUrl": "",
      "userId": "01128907480799177332"
     },
     "user_tz": 180
    },
    "id": "0JVSFwIUZ75R",
    "outputId": "6bb6353b-4f4e-4fa9-a4e6-fa280dcfe315"
   },
   "outputs": [
    {
     "name": "stdout",
     "output_type": "stream",
     "text": [
      "Iteration: \t1 / 100\n",
      "Confirmed: \t0\n",
      "Tentative: \t27\n",
      "Rejected: \t0\n",
      "Iteration: \t2 / 100\n",
      "Confirmed: \t0\n",
      "Tentative: \t27\n",
      "Rejected: \t0\n",
      "Iteration: \t3 / 100\n",
      "Confirmed: \t0\n",
      "Tentative: \t27\n",
      "Rejected: \t0\n",
      "Iteration: \t4 / 100\n",
      "Confirmed: \t0\n",
      "Tentative: \t27\n",
      "Rejected: \t0\n",
      "Iteration: \t5 / 100\n",
      "Confirmed: \t0\n",
      "Tentative: \t27\n",
      "Rejected: \t0\n",
      "Iteration: \t6 / 100\n",
      "Confirmed: \t0\n",
      "Tentative: \t27\n",
      "Rejected: \t0\n",
      "Iteration: \t7 / 100\n",
      "Confirmed: \t0\n",
      "Tentative: \t27\n",
      "Rejected: \t0\n",
      "Iteration: \t8 / 100\n",
      "Confirmed: \t12\n",
      "Tentative: \t1\n",
      "Rejected: \t14\n",
      "Iteration: \t9 / 100\n",
      "Confirmed: \t12\n",
      "Tentative: \t1\n",
      "Rejected: \t14\n",
      "Iteration: \t10 / 100\n",
      "Confirmed: \t12\n",
      "Tentative: \t1\n",
      "Rejected: \t14\n",
      "Iteration: \t11 / 100\n",
      "Confirmed: \t12\n",
      "Tentative: \t1\n",
      "Rejected: \t14\n",
      "Iteration: \t12 / 100\n",
      "Confirmed: \t12\n",
      "Tentative: \t1\n",
      "Rejected: \t14\n",
      "Iteration: \t13 / 100\n",
      "Confirmed: \t12\n",
      "Tentative: \t1\n",
      "Rejected: \t14\n",
      "Iteration: \t14 / 100\n",
      "Confirmed: \t12\n",
      "Tentative: \t1\n",
      "Rejected: \t14\n",
      "Iteration: \t15 / 100\n",
      "Confirmed: \t12\n",
      "Tentative: \t1\n",
      "Rejected: \t14\n",
      "Iteration: \t16 / 100\n",
      "Confirmed: \t12\n",
      "Tentative: \t1\n",
      "Rejected: \t14\n",
      "Iteration: \t17 / 100\n",
      "Confirmed: \t12\n",
      "Tentative: \t1\n",
      "Rejected: \t14\n",
      "Iteration: \t18 / 100\n",
      "Confirmed: \t12\n",
      "Tentative: \t1\n",
      "Rejected: \t14\n",
      "Iteration: \t19 / 100\n",
      "Confirmed: \t12\n",
      "Tentative: \t1\n",
      "Rejected: \t14\n",
      "Iteration: \t20 / 100\n",
      "Confirmed: \t12\n",
      "Tentative: \t1\n",
      "Rejected: \t14\n",
      "Iteration: \t21 / 100\n",
      "Confirmed: \t12\n",
      "Tentative: \t1\n",
      "Rejected: \t14\n",
      "Iteration: \t22 / 100\n",
      "Confirmed: \t12\n",
      "Tentative: \t1\n",
      "Rejected: \t14\n",
      "Iteration: \t23 / 100\n",
      "Confirmed: \t12\n",
      "Tentative: \t1\n",
      "Rejected: \t14\n",
      "Iteration: \t24 / 100\n",
      "Confirmed: \t12\n",
      "Tentative: \t1\n",
      "Rejected: \t14\n",
      "Iteration: \t25 / 100\n",
      "Confirmed: \t12\n",
      "Tentative: \t1\n",
      "Rejected: \t14\n",
      "Iteration: \t26 / 100\n",
      "Confirmed: \t12\n",
      "Tentative: \t0\n",
      "Rejected: \t15\n",
      "\n",
      "\n",
      "BorutaPy finished running.\n",
      "\n",
      "Iteration: \t27 / 100\n",
      "Confirmed: \t12\n",
      "Tentative: \t0\n",
      "Rejected: \t15\n"
     ]
    }
   ],
   "source": [
    "boruta = BorutaPy(rf, n_estimators='auto', verbose=2, random_state=42).fit(X_train_arr, y_train_arr)"
   ]
  },
  {
   "cell_type": "code",
   "execution_count": 11,
   "metadata": {
    "executionInfo": {
     "elapsed": 13769050,
     "status": "ok",
     "timestamp": 1610741489871,
     "user": {
      "displayName": "Marcos Brum",
      "photoUrl": "",
      "userId": "01128907480799177332"
     },
     "user_tz": 180
    },
    "id": "HNU6jUMeWusS"
   },
   "outputs": [],
   "source": [
    "cols_selected = boruta.support_.tolist()\n",
    "\n",
    "#best features\n",
    "cols_selected_boruta = X_train.iloc[:, cols_selected].columns.to_list()\n",
    "\n",
    "#not selected\n",
    "cols_not_selected_boruta = list(np.setdiff1d(X_train.columns, cols_selected_boruta))"
   ]
  },
  {
   "cell_type": "code",
   "execution_count": 12,
   "metadata": {
    "colab": {
     "base_uri": "https://localhost:8080/",
     "height": 225
    },
    "executionInfo": {
     "elapsed": 13769047,
     "status": "ok",
     "timestamp": 1610741489873,
     "user": {
      "displayName": "Marcos Brum",
      "photoUrl": "",
      "userId": "01128907480799177332"
     },
     "user_tz": 180
    },
    "id": "N_9N0hGjYoud",
    "outputId": "03bc321f-9865-4d8c-b16a-2b0b885481a1"
   },
   "outputs": [
    {
     "data": {
      "text/plain": [
       "['store',\n",
       " 'promo',\n",
       " 'store_type',\n",
       " 'competition_distance',\n",
       " 'competition_open_since_month',\n",
       " 'competition_open_since_year',\n",
       " 'promo2_since_week',\n",
       " 'promo2_since_year',\n",
       " 'promo_time_week',\n",
       " 'day_cos',\n",
       " 'day_of_week_sin',\n",
       " 'day_of_week_cos']"
      ]
     },
     "metadata": {
      "tags": []
     },
     "output_type": "display_data"
    }
   ],
   "source": [
    "display(cols_selected_boruta)"
   ]
  },
  {
   "cell_type": "markdown",
   "metadata": {
    "id": "sUvHa3iKuA_1"
   },
   "source": [
    "Boruta ran 27 iterations in 3h50min, and it selected twelve features (fifteen were rejected):\n",
    "\n",
    "cols_selected_boruta = ['store', 'promo', 'store_type', 'competition_distance', 'competition_open_since_month', 'competition_open_since_year', 'promo2_since_week', 'promo2_since_year', 'promo_time_week', 'day_cos', 'day_of_week_sin', 'day_of_week_cos']\n",
    "\n",
    "The same output was obtained in the command line, but in 1/3 of the time!"
   ]
  }
 ],
 "metadata": {
  "colab": {
   "collapsed_sections": [
    "jO8LU77_Z74e",
    "RWrPcg6hZ74n",
    "TdeIxbGTZ74p",
    "cE_hX-cFZ74t",
    "mg7S0yCfZ74w",
    "3BWCXc7pZ74x",
    "-CoW9G_4Z74y",
    "veN0gdnfZ74z",
    "tON6-xAmZ74z",
    "3QCZCiQhZ740",
    "DT8Ez4pgZ742",
    "pBe0j8FZZ742",
    "sC_yxyiKZ743",
    "XXvr7wQZZ743",
    "ALkWLVwUZ744",
    "Z2eyjJL_Z745",
    "qkqOKNzSZ745",
    "qtKe2SojZ746",
    "H96cMKRwZ746",
    "H887EsrVZ747",
    "ffqjPCXhZ748",
    "6VnvfyaYZ748",
    "O0dXhwj-Z748",
    "RzDvzXDIZ748",
    "mHZTxLO8Z74_",
    "mGm9NrG5Z74_",
    "7kMfl1Z6Z75A",
    "fAkdXI1OZ75C",
    "vkFC6e3eZ75D",
    "fkPRO8euZ75D",
    "C2FgT-NoZ75D",
    "29Z3h1TKZ75F",
    "2WbaUUbSZ75G",
    "tnmbRIvWZ75H",
    "r_Ptz2KbZ75H",
    "WEW4kUjgZ75I",
    "WX_TSJhIZ75I",
    "w408_g8lZ75I",
    "ouvTzi5ZZ75I",
    "mvScCFFyZ75I",
    "vwzi-6iVZ75J",
    "GLuCNpqMZ75K",
    "jn78Fc3mZ75K",
    "5UGuMBw2Z75L",
    "I9mgudGfZ75L",
    "7L0-YNwiZ75L",
    "XoTrVt_dZ75M",
    "-cBZcFIcZ75P"
   ],
   "name": "m06_boruta_only.ipynb",
   "provenance": [],
   "toc_visible": true
  },
  "kernelspec": {
   "display_name": "Python 3",
   "language": "python",
   "name": "python3"
  },
  "language_info": {
   "codemirror_mode": {
    "name": "ipython",
    "version": 3
   },
   "file_extension": ".py",
   "mimetype": "text/x-python",
   "name": "python",
   "nbconvert_exporter": "python",
   "pygments_lexer": "ipython3",
   "version": "3.8.5"
  },
  "toc": {
   "base_numbering": 1,
   "nav_menu": {},
   "number_sections": false,
   "sideBar": true,
   "skip_h1_title": false,
   "title_cell": "Table of Contents",
   "title_sidebar": "Contents",
   "toc_cell": false,
   "toc_position": {},
   "toc_section_display": true,
   "toc_window_display": false
  }
 },
 "nbformat": 4,
 "nbformat_minor": 1
}

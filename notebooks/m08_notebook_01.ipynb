{
 "cells": [
  {
   "cell_type": "markdown",
   "metadata": {},
   "source": [
    "# 0.0 IMPORTS"
   ]
  },
  {
   "cell_type": "code",
   "execution_count": 1,
   "metadata": {
    "ExecuteTime": {
     "end_time": "2021-01-26T19:30:54.375792Z",
     "start_time": "2021-01-26T19:30:53.403389Z"
    }
   },
   "outputs": [],
   "source": [
    "import numpy               as np\n",
    "import pandas              as pd\n",
    "import math\n",
    "import random\n",
    "\n",
    "from scipy import stats as ss\n",
    "\n",
    "from sklearn.metrics import mean_absolute_error, mean_squared_error\n",
    "\n",
    "import datetime\n",
    "\n",
    "import xgboost as xgb"
   ]
  },
  {
   "cell_type": "markdown",
   "metadata": {},
   "source": [
    "## 0.1 Helper Functions"
   ]
  },
  {
   "cell_type": "code",
   "execution_count": 2,
   "metadata": {
    "ExecuteTime": {
     "end_time": "2021-01-26T19:30:54.389977Z",
     "start_time": "2021-01-26T19:30:54.377532Z"
    }
   },
   "outputs": [],
   "source": [
    "#Used in section 4.3.2 - EDA, Multivariate Analysis, Categorical Variables\n",
    "def cat_corr(x, y):\n",
    "    '''Cross frequencies'''\n",
    "    cont_mat = pd.crosstab(x, y).to_numpy()\n",
    "    \n",
    "    n = cont_mat.sum()\n",
    "    r, k = cont_mat.shape\n",
    "    \n",
    "    '''chi square statistics'''\n",
    "    chi2 = ss.chi2_contingency(cont_mat)[0]\n",
    "    \n",
    "    '''Corrected variables to compensate for bias:'''\n",
    "    chi2corr = max(0, (chi2/n) - (k - 1)*(r - 1)/(n-1))\n",
    "    r_corr = r - (r-1)**2/(n-1)\n",
    "    k_corr = k - (k-1)**2/(n-1)\n",
    "    \n",
    "    '''Cramérs V correlation'''''\n",
    "    cramer_v = np.sqrt((chi2corr)/(min(k_corr-1, r_corr-1)))\n",
    "    return cramer_v\n",
    "\n",
    "\n",
    "#Used in section 7 - Machine Learning Modelling\n",
    "def mean_percentage_error( y, yhat ):\n",
    "    return np.mean( ( y - yhat ) / y )\n",
    "     \n",
    "    \n",
    "def mean_absolute_percentage_error( y, yhat ):\n",
    "    return np.mean( np.abs( ( y - yhat ) / y ) )\n",
    "\n",
    "    \n",
    "def ml_error( model_name, y, yhat ):\n",
    "    mae = mean_absolute_error( y, yhat )\n",
    "    mape = mean_absolute_percentage_error( y, yhat )\n",
    "    rmse = np.sqrt( mean_squared_error( y, yhat ) )\n",
    "    \n",
    "    return pd.DataFrame( { 'Model Name': model_name, \n",
    "                           'MAE': mae, \n",
    "                           'MAPE': mape,\n",
    "                           'RMSE': rmse }, index=[0] )\n",
    "\n",
    "\n",
    "#Used in section 7 - Machine Learning Modelling (cross validation)\n",
    "def cross_validation(training_data, kfolds, model, model_name, verbose=False):\n",
    "  mae_list = []\n",
    "  mape_list = []\n",
    "  rmse_list = []\n",
    "  for k in reversed(range(1, kfolds+1)):\n",
    "    if verbose:\n",
    "      print('\\nKFold Number: {}'.format(k))\n",
    "    #time intervals of 6 weeks\n",
    "    validation_start_date = training_data['date'].max() - datetime.timedelta(days=k*6*7)\n",
    "    validation_end_date = training_data['date'].max() - datetime.timedelta(days=(k-1)*6*7)\n",
    "\n",
    "    #split data into training and validation\n",
    "    training = training_data[training_data['date'] < validation_start_date]\n",
    "    validation = training_data[(training_data['date'] >= validation_start_date) & (training_data['date'] <= validation_end_date)]\n",
    "\n",
    "    xtraining = training.drop(['date', 'sales'], axis=1)\n",
    "    ytraining = training['sales']\n",
    "\n",
    "    xvalidation = validation.drop(['date', 'sales'], axis=1)\n",
    "    yvalidation = validation['sales']\n",
    "\n",
    "    #implement a model to get the results\n",
    "    m = model.fit(xtraining, ytraining)\n",
    "    yhat = m.predict(xvalidation)\n",
    "    m_result = ml_error(model_name, np.expm1(yvalidation), np.expm1(yhat))\n",
    "\n",
    "    mae_list.append(m_result['MAE'])\n",
    "    mape_list.append(m_result['MAPE'])\n",
    "    rmse_list.append(m_result['RMSE'])\n",
    "\n",
    "  return pd.DataFrame({'Model name':model_name,\n",
    "                       'MAE':np.round(np.mean(mae_list), 2).astype(str) + '+/-' + np.round(np.std(mae_list), 2).astype(str),\n",
    "                       'MAPE':np.round(np.mean(mape_list), 2).astype(str) + '+/-' + np.round(np.std(mape_list), 2).astype(str),\n",
    "                       'RMSE':np.round(np.mean(rmse_list), 2).astype(str) + '+/-' + np.round(np.std(rmse_list), 2).astype(str)}, index=[0])"
   ]
  },
  {
   "cell_type": "markdown",
   "metadata": {},
   "source": [
    "## 0.2 Loading Data"
   ]
  },
  {
   "cell_type": "code",
   "execution_count": 3,
   "metadata": {
    "ExecuteTime": {
     "end_time": "2021-01-26T19:30:54.536532Z",
     "start_time": "2021-01-26T19:30:54.391862Z"
    }
   },
   "outputs": [],
   "source": [
    "x_training = pd.read_pickle('ml_models_comp/x_training.pkl')\n",
    "x_testing = pd.read_pickle('ml_models_comp/x_testing.pkl')"
   ]
  },
  {
   "cell_type": "markdown",
   "metadata": {},
   "source": [
    "# 8.0 Hyperparameter Fine Tuning"
   ]
  },
  {
   "cell_type": "markdown",
   "metadata": {},
   "source": [
    "## 8.1 Random Search"
   ]
  },
  {
   "cell_type": "code",
   "execution_count": 4,
   "metadata": {
    "ExecuteTime": {
     "end_time": "2021-01-26T19:30:54.541072Z",
     "start_time": "2021-01-26T19:30:54.538245Z"
    }
   },
   "outputs": [],
   "source": [
    "param = {'n_estimators':[15, 17, 25, 30, 35],\n",
    "         'eta':[0.01, 0.03],\n",
    "         'max_depth':[3, 5, 9],\n",
    "         'subsample':[0.1, 0.5, 0.7],\n",
    "         'colsample_bytree':[0.3, 0.7, 0.9],\n",
    "         'min_child_weight':[3, 8, 15],\n",
    "        }\n",
    "\n",
    "MAX_EVAL = 2"
   ]
  },
  {
   "cell_type": "code",
   "execution_count": 5,
   "metadata": {
    "ExecuteTime": {
     "end_time": "2021-01-26T19:31:07.488086Z",
     "start_time": "2021-01-26T19:30:54.542593Z"
    }
   },
   "outputs": [
    {
     "name": "stdout",
     "output_type": "stream",
     "text": [
      "{'n_estimators': 25, 'eta': 0.03, 'max_depth': 9, 'subsample': 0.1, 'colsample_bytree': 0.9, 'min_child_weight': 15}\n",
      "{'n_estimators': 30, 'eta': 0.03, 'max_depth': 3, 'subsample': 0.5, 'colsample_bytree': 0.9, 'min_child_weight': 15}\n"
     ]
    },
    {
     "data": {
      "text/html": [
       "<div>\n",
       "<style scoped>\n",
       "    .dataframe tbody tr th:only-of-type {\n",
       "        vertical-align: middle;\n",
       "    }\n",
       "\n",
       "    .dataframe tbody tr th {\n",
       "        vertical-align: top;\n",
       "    }\n",
       "\n",
       "    .dataframe thead th {\n",
       "        text-align: right;\n",
       "    }\n",
       "</style>\n",
       "<table border=\"1\" class=\"dataframe\">\n",
       "  <thead>\n",
       "    <tr style=\"text-align: right;\">\n",
       "      <th></th>\n",
       "      <th>Model name</th>\n",
       "      <th>MAE</th>\n",
       "      <th>MAPE</th>\n",
       "      <th>RMSE</th>\n",
       "    </tr>\n",
       "  </thead>\n",
       "  <tbody>\n",
       "    <tr>\n",
       "      <th>0</th>\n",
       "      <td>XGBoost Regressor</td>\n",
       "      <td>7291.56+/-127.58</td>\n",
       "      <td>0.98+/-0.0</td>\n",
       "      <td>7953.76+/-175.12</td>\n",
       "    </tr>\n",
       "    <tr>\n",
       "      <th>0</th>\n",
       "      <td>XGBoost Regressor</td>\n",
       "      <td>7193.76+/-127.06</td>\n",
       "      <td>0.96+/-0.0</td>\n",
       "      <td>7862.32+/-174.85</td>\n",
       "    </tr>\n",
       "  </tbody>\n",
       "</table>\n",
       "</div>"
      ],
      "text/plain": [
       "          Model name               MAE        MAPE              RMSE\n",
       "0  XGBoost Regressor  7291.56+/-127.58  0.98+/-0.0  7953.76+/-175.12\n",
       "0  XGBoost Regressor  7193.76+/-127.06  0.96+/-0.0  7862.32+/-174.85"
      ]
     },
     "execution_count": 5,
     "metadata": {},
     "output_type": "execute_result"
    }
   ],
   "source": [
    "final_result = pd.DataFrame()\n",
    "\n",
    "for i in range(MAX_EVAL):\n",
    "    #randomly selected hyperparameters\n",
    "    hp = {k:random.sample(v, 1)[0] for k, v in param.items()}\n",
    "    print(hp)\n",
    "    #model\n",
    "    model_xgb = xgb.XGBRegressor(objective='reg:squarederror',\n",
    "                                 n_estimators=hp['n_estimators'],\n",
    "                                 eta=hp['eta'],\n",
    "                                 max_depth=hp['max_depth'],\n",
    "                                 subsample=hp['subsample'],\n",
    "                                 colsample_bytree=hp['colsample_bytree'],\n",
    "                                 min_child_weight=hp['min_child_weight']\n",
    "                                 )\n",
    "    result = cross_validation(x_training, 2, model_xgb, 'XGBoost Regressor', verbose=False)\n",
    "    final_result = pd.concat([final_result, result])\n",
    "\n",
    "final_result"
   ]
  },
  {
   "cell_type": "markdown",
   "metadata": {},
   "source": [
    "## 8.2 Final Model"
   ]
  },
  {
   "cell_type": "code",
   "execution_count": 6,
   "metadata": {
    "ExecuteTime": {
     "end_time": "2021-01-26T19:31:07.492985Z",
     "start_time": "2021-01-26T19:31:07.490150Z"
    }
   },
   "outputs": [],
   "source": [
    "param_tuned = {'n_estimators':25,\n",
    "         'eta':0.03,\n",
    "         'max_depth':9,\n",
    "         'subsample':0.7,\n",
    "         'colsample_bytree':0.7,\n",
    "         'min_child_weight':3,\n",
    "        }"
   ]
  },
  {
   "cell_type": "code",
   "execution_count": 7,
   "metadata": {
    "ExecuteTime": {
     "end_time": "2021-01-26T19:31:07.528206Z",
     "start_time": "2021-01-26T19:31:07.494866Z"
    }
   },
   "outputs": [],
   "source": [
    "x_train = x_training.drop(['date', 'sales'], axis=1)\n",
    "y_train = x_training['sales']\n",
    "\n",
    "x_test = x_testing.drop(['date', 'sales'], axis=1)\n",
    "y_test = x_testing['sales']"
   ]
  },
  {
   "cell_type": "code",
   "execution_count": 8,
   "metadata": {
    "ExecuteTime": {
     "end_time": "2021-01-26T19:31:13.446815Z",
     "start_time": "2021-01-26T19:31:07.530629Z"
    }
   },
   "outputs": [
    {
     "data": {
      "text/html": [
       "<div>\n",
       "<style scoped>\n",
       "    .dataframe tbody tr th:only-of-type {\n",
       "        vertical-align: middle;\n",
       "    }\n",
       "\n",
       "    .dataframe tbody tr th {\n",
       "        vertical-align: top;\n",
       "    }\n",
       "\n",
       "    .dataframe thead th {\n",
       "        text-align: right;\n",
       "    }\n",
       "</style>\n",
       "<table border=\"1\" class=\"dataframe\">\n",
       "  <thead>\n",
       "    <tr style=\"text-align: right;\">\n",
       "      <th></th>\n",
       "      <th>Model Name</th>\n",
       "      <th>MAE</th>\n",
       "      <th>MAPE</th>\n",
       "      <th>RMSE</th>\n",
       "    </tr>\n",
       "  </thead>\n",
       "  <tbody>\n",
       "    <tr>\n",
       "      <th>0</th>\n",
       "      <td>XGBoost Regressor</td>\n",
       "      <td>6860.731664</td>\n",
       "      <td>0.977765</td>\n",
       "      <td>7502.412248</td>\n",
       "    </tr>\n",
       "  </tbody>\n",
       "</table>\n",
       "</div>"
      ],
      "text/plain": [
       "          Model Name          MAE      MAPE         RMSE\n",
       "0  XGBoost Regressor  6860.731664  0.977765  7502.412248"
      ]
     },
     "execution_count": 8,
     "metadata": {},
     "output_type": "execute_result"
    }
   ],
   "source": [
    "#model\n",
    "model_xgb_tuned = xgb.XGBRegressor(objective='reg:squarederror',\n",
    "                                   n_estimators=param_tuned['n_estimators'],\n",
    "                                   eta=param_tuned['eta'],\n",
    "                                   max_depth=param_tuned['max_depth'],\n",
    "                                   subsample=param_tuned['subsample'],\n",
    "                                   colsample_bytree=param_tuned['colsample_bytree'],\n",
    "                                   min_child_weight=param_tuned['min_child_weight']\n",
    "                                  ).fit(x_train, y_train)\n",
    "\n",
    "yhat_xgb_tuned = model_xgb_tuned.predict(x_test)\n",
    "\n",
    "xgb_result = ml_error('XGBoost Regressor', np.expm1(y_test), np.expm1(yhat_xgb_tuned))\n",
    "xgb_result"
   ]
  }
 ],
 "metadata": {
  "kernelspec": {
   "display_name": "Python 3",
   "language": "python",
   "name": "python3"
  },
  "language_info": {
   "codemirror_mode": {
    "name": "ipython",
    "version": 3
   },
   "file_extension": ".py",
   "mimetype": "text/x-python",
   "name": "python",
   "nbconvert_exporter": "python",
   "pygments_lexer": "ipython3",
   "version": "3.8.5"
  },
  "toc": {
   "base_numbering": 1,
   "nav_menu": {},
   "number_sections": false,
   "sideBar": true,
   "skip_h1_title": false,
   "title_cell": "Table of Contents",
   "title_sidebar": "Contents",
   "toc_cell": false,
   "toc_position": {},
   "toc_section_display": true,
   "toc_window_display": false
  }
 },
 "nbformat": 4,
 "nbformat_minor": 4
}
